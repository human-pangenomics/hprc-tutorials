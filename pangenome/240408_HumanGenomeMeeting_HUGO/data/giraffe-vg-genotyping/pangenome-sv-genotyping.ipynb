{
 "cells": [
  {
   "cell_type": "markdown",
   "id": "0494f662-1e46-40ce-be8e-c2713c3acd5e",
   "metadata": {},
   "source": [
    "# Genotyping structural variants from sequencing data with vg\n",
    "\n",
    "In this notebook, we play with a small toy dataset, extracted from real data, to review the workflow to genotype structural variants using pangenomes. It uses the [vg tookit](https://github.com/vgteam/vg).\n",
    "\n",
    "This approach was introduced in [Hickey, Heller, Monlong, et al. (Genome Biology 2020)](https://doi.org/10.1186/s13059-020-1941-7).\n",
    "This workflow was also used in the follow-up article [Sirén, Monlong, Chang, Novak, Eizenga, et al. (Science 2021)](https://doi.org/10.1126/science.abg8871) which introduced a faster read-mapping algorithm and demonstrated its value on a large-scale SV genotyping study.\n"
   ]
  },
  {
   "cell_type": "code",
   "execution_count": null,
   "id": "4d0f2769-729d-45f3-b885-a7af11d6332b",
   "metadata": {},
   "outputs": [],
   "source": [
    "# used to display image file in this notebook\n",
    "from IPython.display import Image"
   ]
  },
  {
   "cell_type": "markdown",
   "id": "6ddc7879-5630-4671-9148-cf8f427a94d2",
   "metadata": {},
   "source": [
    "## Test data\n",
    "\n",
    "To test genotyping structural variants (SVs) with pangenome, we will work on a (tiny) genomic region that harbor an insertion and a deletion in the widely studied HG002 sample.\n",
    "\n",
    "The region is about 7.8 Kbp. Its coordinates are `7:158876691-158884496` on the GRCh37/hg19 genome. The reference sequence was saved into a FASTA file (`ref.fa`). You can view this region in [the UCSC Genome Browser](https://genome.ucsc.edu/cgi-bin/hgTracks?db=hg19&&position=chr7%3A158876691-158884496) and notice that it contains simple tandem repeats.\n",
    "\n",
    "We also prepared the SVs to genotype in a VCF file (`svs.vcf`). This is just a slice of the original SVs \"truthset\" created for this sample by the [Genome in a Bottle consortium](https://www.nist.gov/programs-projects/genome-bottle) and downloadable [here](https://ftp-trace.ncbi.nlm.nih.gov/ReferenceSamples/giab/release/AshkenazimTrio/HG002_NA24385_son/NIST_SV_v0.6/). Similarly, sequencing reads for this sample and originating from this region were prepared in the `reads.fastq.gz` file (gzipped FASTQ).\n",
    "\n",
    "We can look at the first rows of each file, to get a feel for the data.\n",
    "\n",
    "The reference sequence extracted from GRCh38:"
   ]
  },
  {
   "cell_type": "code",
   "execution_count": null,
   "id": "e4cd31c9-aacf-442e-ad3b-09b72171feba",
   "metadata": {
    "scrolled": true
   },
   "outputs": [],
   "source": [
    "!head svgenotyping_data/ref.fa"
   ]
  },
  {
   "cell_type": "markdown",
   "id": "09008642-eb38-43f4-8113-2383eb06cd24",
   "metadata": {},
   "source": [
    "Note: the contig is named `ref`.\n",
    "\n",
    "The known structural variants from GIAB, represented in the VCF format:"
   ]
  },
  {
   "cell_type": "code",
   "execution_count": null,
   "id": "39b6a983-e0a5-4f87-8aca-69d86aff507e",
   "metadata": {
    "scrolled": true
   },
   "outputs": [],
   "source": [
    "!cat svgenotyping_data/svs.vcf"
   ]
  },
  {
   "cell_type": "markdown",
   "id": "79e1e4f2-aea4-4581-a6a5-fd38bda339fd",
   "metadata": {},
   "source": [
    "The sequencing reads in FASTQ format:"
   ]
  },
  {
   "cell_type": "code",
   "execution_count": null,
   "id": "2e606fd3-3953-4b79-af83-a9c7bca89a2d",
   "metadata": {},
   "outputs": [],
   "source": [
    "!zcat svgenotyping_data/reads.fastq.gz | head -8"
   ]
  },
  {
   "cell_type": "markdown",
   "id": "34ae4f27-1b5a-4a67-a14c-cb76d9bf969b",
   "metadata": {},
   "source": [
    "## Build a pangenome from a reference sequence and variant information\n",
    "\n",
    "A pangenome can be build by specifying variants relative to a reference genome. In practice, the reference sequence is stored in a FASTA file and the variants in a VCF file.\n",
    "\n",
    "The pangenome *construct*ion command below reads that reference FASTA (`-r`) and variant VCF file (`-v`) to create a pangenome file (`.vg`)."
   ]
  },
  {
   "cell_type": "code",
   "execution_count": null,
   "id": "51d58c86-6c87-47cc-9a8b-cae7f0403077",
   "metadata": {},
   "outputs": [],
   "source": [
    "!vg construct -r svgenotyping_data/ref.fa -v svgenotyping_data/svs.vcf -a -m 1024 > pan.vg"
   ]
  },
  {
   "cell_type": "markdown",
   "id": "3728c651-37e2-4dfb-bdf1-2450488b15fc",
   "metadata": {},
   "source": [
    "Some information about the other parameters (more information available by running `vg construct`):\n",
    "- `-a` asks to save the information of the variants as \"alternate\" paths (see visualization below) which is necessary for variant genotyping later.\n",
    "- `-m` specifies the maximum size for nodes. Even if there are no variants, nodes will be broken up, here every 1024 bases, to help computations and visualization. (more than 1024 is usually not advisable).\n"
   ]
  },
  {
   "cell_type": "markdown",
   "id": "0a2b28e9-9cbe-4f0f-aa1f-364fb12bf261",
   "metadata": {},
   "source": [
    "What is the pangenome made of? How many nodes, edges, bases?"
   ]
  },
  {
   "cell_type": "code",
   "execution_count": null,
   "id": "e8fe15c6-03d1-485d-9b4d-5e34c1727cf6",
   "metadata": {},
   "outputs": [],
   "source": [
    "!vg stats -zl pan.vg"
   ]
  },
  {
   "cell_type": "markdown",
   "id": "c25afcb6-d293-4f7f-89cc-8c4b09014898",
   "metadata": {},
   "source": [
    "We can also make a static image representing the pangenome. This works only for small graphs."
   ]
  },
  {
   "cell_type": "code",
   "execution_count": null,
   "id": "99d08031-d246-49a4-85b3-cd97ae751e7d",
   "metadata": {},
   "outputs": [],
   "source": [
    "!vg view -dpS pan.vg | dot -Tpng -o pan.png"
   ]
  },
  {
   "cell_type": "markdown",
   "id": "b5180af4-5f53-48d6-81c2-a834461261f1",
   "metadata": {},
   "source": [
    "- `-d` means that we want to make a \"dot\" graph representation (that is then piped to `dot` to make the image file).\n",
    "- `-p` means that we want to show paths through the graph, i.e. the reference path and the variant/alternate paths.\n",
    "- `-S` means that we want a simplified representation, replacing the genomic sequence in each node by their length."
   ]
  },
  {
   "cell_type": "code",
   "execution_count": null,
   "id": "30b06aa7-dbe7-4a8c-ae21-12888a6f4ff2",
   "metadata": {
    "scrolled": true
   },
   "outputs": [],
   "source": [
    "Image(filename='pan.png') "
   ]
  },
  {
   "cell_type": "markdown",
   "id": "374a0cdf-9c69-4412-a10e-356ba637a534",
   "metadata": {},
   "source": [
    "The graph shows nodes (*circles*) connected by edges. We notice two \"bubbles\" in the middle, marked by the \"_alt*\" paths. These are the two variants defined in the input VCF. The \"ref\" path shows how to traverse the pangenome to get the reference genome. "
   ]
  },
  {
   "cell_type": "markdown",
   "id": "0df69e9b-1f86-49a6-b215-408e1d2514b3",
   "metadata": {},
   "source": [
    "## Map sequencing reads to the pangenome"
   ]
  },
  {
   "cell_type": "markdown",
   "id": "e2b393aa-2e9f-4390-b20c-82ce06242bcf",
   "metadata": {},
   "source": [
    "For DNA sequencing, the appropriate read mapping module in vg is called Giraffe. It's as fast as bwa-mem, one of the most used mapper for linear genomes.\n",
    "\n",
    "To improve efficiency and accuracy, vg giraffe uses haplotype information. In the pangenome, haplotypes are represented as paths, like for the reference genome. If we don't have haplotype information available, vg can create artificial haplotypes that cover as many nodes as possible. Here, we will use this approach and **request four artificial haplotypes**."
   ]
  },
  {
   "cell_type": "code",
   "execution_count": null,
   "id": "e6343212-4067-4636-88dd-4a6657e28530",
   "metadata": {},
   "outputs": [],
   "source": [
    "!vg gbwt -x pan.vg --gbz-format -g pan.gbz --pass-paths -P -n 4"
   ]
  },
  {
   "cell_type": "markdown",
   "id": "dee05cc7-ca58-42b2-bdab-2f288189faa4",
   "metadata": {},
   "source": [
    "- `-x` to provide the pangenome\n",
    "- `--gbz-format` to specify that we want the latest pangenome format, GBZ.\n",
    "- `-g` to specify the name of the output file\n",
    "- `-P` to specify that we want a set of artificial paths\n",
    "- `-n` to specify how many paths we want to create"
   ]
  },
  {
   "cell_type": "code",
   "execution_count": null,
   "id": "336e235a-6c30-4f17-851d-c7fdc1b9c75d",
   "metadata": {
    "scrolled": true
   },
   "outputs": [],
   "source": [
    "!vg view -dpS pan.gbz | dot -Tpng -o pan.gbz.png\n",
    "Image(filename='pan.gbz.png') "
   ]
  },
  {
   "cell_type": "markdown",
   "id": "af443670-54e0-4de8-8e3d-7babe57e5274",
   "metadata": {},
   "source": [
    "Other indexes are used by vg giraffe to speed up read mapping. In particular, the minimizer index stores the location of short sequences in the pangenome which help enumerate \"seeds\" for read mapping. The distance index precomputes and organize distances in the pangenome which speeds up clustering seeds. \n",
    "\n",
    "To make sure we are starting from scratch, we can remove those indexes and let giraffe recompute them. If we have changed the pangenome without recreating the indexes, we might get a bug. If the pangenome hasn't changed since the last time we ran giraffe, this step is not necessary because the indexes are still valid."
   ]
  },
  {
   "cell_type": "code",
   "execution_count": null,
   "id": "aa462286-2364-4fce-908c-8577de734178",
   "metadata": {},
   "outputs": [],
   "source": [
    "!rm -f pan.min pan.dist"
   ]
  },
  {
   "cell_type": "code",
   "execution_count": null,
   "id": "950ea0d9-7b9a-4902-9062-20a5831bc524",
   "metadata": {},
   "outputs": [],
   "source": [
    "!vg giraffe -Z pan.gbz -i -f svgenotyping_data/reads.fastq.gz -o gaf | gzip > reads.gaf.gz"
   ]
  },
  {
   "cell_type": "markdown",
   "id": "8e55b402-56c1-41c2-989a-9cb513fdbbac",
   "metadata": {},
   "source": [
    "Note: The warning messages above are due to the fact that we are working with a very small toy dataset and there is not enough reads to, for example, figure out what is the distribution of the fragment length."
   ]
  },
  {
   "cell_type": "markdown",
   "id": "a1e0d957-095b-4291-92ba-25735b4f9cc2",
   "metadata": {},
   "source": [
    "## Genotype variants\n",
    "\n",
    "Once the reads are mapped, the variant genotyping is run in two steps:\n",
    "\n",
    "1. Computation of the read coverage of each node and edges in the graph\n",
    "2. Genotyping of the original variants based on this coverage.\n",
    "\n",
    "The following commands creates a \"pack\" file that records read coverage on the pangenome."
   ]
  },
  {
   "cell_type": "code",
   "execution_count": null,
   "id": "06f0f0a9-5ef7-4a82-b78f-e49bd375f1a5",
   "metadata": {},
   "outputs": [],
   "source": [
    "!vg pack -x pan.vg -o reads.pack -a reads.gaf.gz"
   ]
  },
  {
   "cell_type": "markdown",
   "id": "09ea457e-ac6c-4be4-95d0-5ae1d6407f0c",
   "metadata": {},
   "source": [
    "We provide the pangenome (`-x`) and the aligned reads (`-a`), and specify to create a pack file (`-o`).\n",
    "\n",
    "With this coverage pack file (`-k`), we genotype the original variants by providing again the input VCF (`-v`)"
   ]
  },
  {
   "cell_type": "code",
   "execution_count": null,
   "id": "801b02f3-ba0f-4a45-944c-13d4bf5db615",
   "metadata": {},
   "outputs": [],
   "source": [
    "!vg call -k reads.pack -v svgenotyping_data/svs.vcf pan.vg > calls.vcf"
   ]
  },
  {
   "cell_type": "markdown",
   "id": "4f20f0e0-2f99-465a-a935-27e06c81923e",
   "metadata": {},
   "source": [
    "The output VCF has now a predicted genotype for each input variant"
   ]
  },
  {
   "cell_type": "code",
   "execution_count": null,
   "id": "2f71761c-f845-489c-890f-9094f1619ad9",
   "metadata": {},
   "outputs": [],
   "source": [
    "!cat calls.vcf"
   ]
  },
  {
   "cell_type": "markdown",
   "id": "5d7da368-8bf8-4f5f-91fa-54f02661fafc",
   "metadata": {},
   "source": [
    "Were all the SVs properly genotyped? I.e. were they predicted to be present in this sample, like we expect?"
   ]
  },
  {
   "cell_type": "markdown",
   "id": "17598b5e-9759-45c1-844a-90d6b6ceb6d3",
   "metadata": {},
   "source": [
    "## Pangenome from aligning assemblies\n",
    "\n",
    "Let's repeat the analysis, but this time **build the pangenome by aligning genome assemblies** of this region in the sample of interest. \n",
    "\n",
    "Indeed, HG002 now has a high quality phased assembly which were produced by the [T2T consortium](https://sites.google.com/ucsc.edu/t2tworkinggroup). The `mat.fa` and `pat.fa` corresponds to the region of interest in the maternal and paternal haplotype of HG002. \n",
    "\n",
    "In practice, we recommend using dedicated tools to build a pangenome from whole-genome assemblies, specifically [Minigraph-Cactus](https://github.com/ComparativeGenomicsToolkit/cactus/blob/master/doc/pangenome.md) or [PGGB](https://github.com/pangenome/pggb). Here, we will use an old (deprecated) function from vg to avoid having to install a new tool. We are working with a tiny region and are only manipulating three assemblies, so it should work well enough for this toy example."
   ]
  },
  {
   "cell_type": "code",
   "execution_count": null,
   "id": "b9bb4c45-8621-41a7-a0dd-35a343ad1590",
   "metadata": {},
   "outputs": [],
   "source": [
    "!vg msga -w 10000 -m 1024 -f svgenotyping_data/ref.fa -f svgenotyping_data/mat.fa -f svgenotyping_data/pat.fa > msa.vg"
   ]
  },
  {
   "cell_type": "markdown",
   "id": "73ef666b-590d-4cdd-aca7-b94419786355",
   "metadata": {},
   "source": [
    "This command build a multiple sequence alignment of the input sequences (FASTA files provided with `-f`). \n",
    "\n",
    "Like for `vg construct`, `-m` specifies to make nodes up to 1024 bp long. \n",
    "\n",
    "`-w` sets the \"band\" used during the alignmnet, which we set to 10000 because we expect some SVs in this region and want to be able to align through them.\n",
    "\n",
    "Once the pangenome built, we can have a look at it, as before:"
   ]
  },
  {
   "cell_type": "code",
   "execution_count": null,
   "id": "c5fbe485-999e-4738-bafd-361074a70e42",
   "metadata": {},
   "outputs": [],
   "source": [
    "!vg view -dpS msa.vg | dot -Tpng -o msa.png"
   ]
  },
  {
   "cell_type": "markdown",
   "id": "ff3357a7-b7fb-4bc6-91b0-144fc7d5c6c6",
   "metadata": {},
   "source": [
    "- `-d` means that we want to make a \"dot\" graph representation (that is then piped to `dot` to make the image file).\n",
    "- `-p` means that we want to show paths through the graph, i.e. the reference path and the variant/alternate paths.\n",
    "- `-S` means that we want a simplified representation, replacing the genomic sequence in each node by their length."
   ]
  },
  {
   "cell_type": "code",
   "execution_count": null,
   "id": "dce679ae-504f-480d-8055-49fcb07f1bf6",
   "metadata": {
    "scrolled": true
   },
   "outputs": [],
   "source": [
    "Image(filename='msa.png') "
   ]
  },
  {
   "cell_type": "markdown",
   "id": "665e4701-d060-4ae5-af9e-ac64fbc3457b",
   "metadata": {},
   "source": [
    "The pangenome now also contains small variants, as visible by the small \"bubbles\". Feel free to open `msa.png` to have a better look."
   ]
  },
  {
   "cell_type": "markdown",
   "id": "71d0c2b3-c5c4-463a-8647-5f8ce1bc8bae",
   "metadata": {},
   "source": [
    "### Optional. Visualize pangenome with odgi\n",
    "\n",
    "When the pangenome contains a lot of variants, it is more difficult to visualize the larger variants. Also the path/haplotypes/assemblies are not very readable on the graphic above.\n",
    "\n",
    "The visualization from [odgi](https://github.com/pangenome/odgi) is better shows the large variants and large differences between haplotypes."
   ]
  },
  {
   "cell_type": "code",
   "execution_count": null,
   "id": "20f5b9d6-1ff2-49d7-a2f4-7ab4781eeb67",
   "metadata": {},
   "outputs": [],
   "source": [
    "!vg view msa.vg > msa.gfa\n",
    "!odgi build -g msa.gfa -o /dev/stdout | odgi sort -i /dev/stdin -o msa.og\n",
    "!odgi viz -i msa.og -o msa.og.png"
   ]
  },
  {
   "cell_type": "markdown",
   "id": "a0a54990-2f10-4d00-bf81-46f4758b7ff5",
   "metadata": {},
   "source": [
    "To use odgi, we first convert the pangenome to the GFA format with `vg view`. We then build and sort a graph with odgi.\n",
    "Finally, we use `odgi viz` to make the image."
   ]
  },
  {
   "cell_type": "code",
   "execution_count": null,
   "id": "7e465b3e-879f-4a34-977a-9d09b14289cf",
   "metadata": {
    "scrolled": true
   },
   "outputs": [],
   "source": [
    "Image(filename='msa.og.png') "
   ]
  },
  {
   "cell_type": "markdown",
   "id": "e0f54006-ee01-47c8-8c6f-46a31b64986d",
   "metadata": {},
   "source": [
    "### Genotype structural variants\n",
    "\n",
    "We can then run the same commands as before to map reads and call variants"
   ]
  },
  {
   "cell_type": "code",
   "execution_count": null,
   "id": "2b9744fd-11f9-4d09-a72c-7a73a800ae10",
   "metadata": {},
   "outputs": [],
   "source": [
    "!vg gbwt -x msa.vg --gbz-format -g msa.gbz -E\n",
    "\n",
    "!rm -f msa.min msa.dist\n",
    "!vg giraffe -Z msa.gbz -i -f svgenotyping_data/reads.fastq.gz -o gaf | gzip > reads.msa.gaf.gz\n",
    "\n",
    "!vg pack -x msa.gbz -o reads.msa.pack -a reads.msa.gaf.gz\n",
    "!vg call -k reads.msa.pack -c 50 msa.vg -p ref > calls.msa.vcf"
   ]
  },
  {
   "cell_type": "markdown",
   "id": "c3b7fa57-c667-4918-bb59-fa551b39ec8e",
   "metadata": {},
   "source": [
    "The only differences are that:\n",
    "\n",
    "- we can use the real haplotypes when mapping with giraffe (`-E` in the `vg gbwt` command means to use the embedded paths)\n",
    "- we don't have \"input\" SVs to genotype anymore, so we genotype any snarls (~bubbles) larger than 50 bp (`-c 50` in the `vg call` command)"
   ]
  },
  {
   "cell_type": "code",
   "execution_count": null,
   "id": "e1119185-edf7-414d-95f8-783a4e222cce",
   "metadata": {},
   "outputs": [],
   "source": [
    "!cat calls.msa.vcf"
   ]
  },
  {
   "cell_type": "markdown",
   "id": "d44af583-1ac3-4f2f-8a99-6ad7097039b1",
   "metadata": {},
   "source": [
    "How did this approach work? Did we better genotype the SVs from the truthset? Or similar ones?\n",
    "\n",
    "If the SVs are slightly different, why could that be?"
   ]
  },
  {
   "cell_type": "markdown",
   "id": "7e98a00a-abfa-4c30-b0ff-1388418ab781",
   "metadata": {},
   "source": [
    "### Optional: Visualize the read alignment with the sequenceTubeMap\n",
    "\n",
    "1. Navigate to the sequenceTubeMap server (see [Workshop landing page](https://github.com/jmonlong/workshop-hprc-hugo24/blob/main/workshop-hprc-hugo24-landing.md)).\n",
    "2. In the *Data:* menu, select *SV genotyping - construct* (for the reference + VCF pangenome) or *SV genotyping - MSA* (for the assembly-based pangenome).\n",
    "3. In *Region:*, enter\n",
    "   - `ref:2990+100` to jump around the first SV (deletion)\n",
    "   - `ref:4800+100` to jump around the second SV (insertion)\n",
    "4. Press *Go*\n",
    "\n",
    "To manipulate the tubemap, you can:\n",
    "- Hold-click to move horizontally\n",
    "- Scroll to zoom in/out\n",
    "- Change some visualization settings in the configuration panel below the graph.\\\n",
    "\n",
    "You should see something like this for the \"construct\" pangenome:\n",
    "![](tubemap.construct.png)\n",
    "\n",
    "This is the \"compressed\" view of the sequenceTubeMap where node size is not to scale (enable/disable in the *Legend* panel at the bottom). \n",
    "It's easier to get an overview of the SV support. \n",
    "Here we see the haplotypes in color ful paths first, with the reference in dark blue. The reads are the paths are the bottom in shades of blue and read (different strands).\n",
    "We see the deletion on the left: the reference path (dark blue) goes through the node but some haplotypes don't. We don't see read support for it though, all reads follow the reference path.\n",
    "On the right/middle, we see the insertion. The reference path doesn't include the node but some haplotypes (beige, pink) traverse the insertion node. We see read support for both the breakpoints and within the insertion.\n",
    "\n",
    "For the MSA pangenome, the compressed view looks like this:\n",
    "\n",
    "![](tubemap.msa.png)\n",
    "\n",
    "This time, the reference path is in orange (hover over a path to display its name).\n",
    "Here, we see a few reads supporting the deletion on the left.\n",
    "We also see a slightly more complex insertion site on the right.\n",
    "Building pangenomes through alignment of high-quality assemblies can better represent variation, both in terms of placement (e.g. the deletion) and representation (e.g. complex insertions).\n",
    "\n"
   ]
  },
  {
   "cell_type": "code",
   "execution_count": null,
   "id": "59ed3a0c-7eb9-4f14-b93b-f4aedb6596be",
   "metadata": {},
   "outputs": [],
   "source": []
  }
 ],
 "metadata": {
  "kernelspec": {
   "display_name": "Python 3 (ipykernel)",
   "language": "python",
   "name": "python3"
  },
  "language_info": {
   "codemirror_mode": {
    "name": "ipython",
    "version": 3
   },
   "file_extension": ".py",
   "mimetype": "text/x-python",
   "name": "python",
   "nbconvert_exporter": "python",
   "pygments_lexer": "ipython3",
   "version": "3.10.12"
  }
 },
 "nbformat": 4,
 "nbformat_minor": 5
}
