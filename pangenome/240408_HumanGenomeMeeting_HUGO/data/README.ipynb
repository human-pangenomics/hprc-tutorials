{
 "cells": [
  {
   "cell_type": "markdown",
   "id": "d829f407-56d8-4560-9e66-412abec8cff0",
   "metadata": {},
   "source": [
    "The different parts of the workshop are separated in three folders. \n",
    "\n",
    "- `pggb`: pangenome construction and analysis with PGGB\n",
    "- `giraffe-deepvariant-rhce`: short read mapping and short variant calling with Giraffe & DeepVariant\n",
    "- `giraffe-vg-genotyping`: short read mapping and structural variant genotyping with vg\n",
    "\n",
    "Navigate to each directory and open the notebook file."
   ]
  }
 ],
 "metadata": {
  "kernelspec": {
   "display_name": "Python 3 (ipykernel)",
   "language": "python",
   "name": "python3"
  },
  "language_info": {
   "codemirror_mode": {
    "name": "ipython",
    "version": 3
   },
   "file_extension": ".py",
   "mimetype": "text/x-python",
   "name": "python",
   "nbconvert_exporter": "python",
   "pygments_lexer": "ipython3",
   "version": "3.10.12"
  }
 },
 "nbformat": 4,
 "nbformat_minor": 5
}
